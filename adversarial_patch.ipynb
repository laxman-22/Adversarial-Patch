{
 "cells": [
  {
   "cell_type": "markdown",
   "metadata": {},
   "source": [
    "Import all the necessary libraries\n",
    "\n",
    "Note: The cell below contains code from Tutorial  10"
   ]
  },
  {
   "cell_type": "code",
   "execution_count": 3,
   "metadata": {},
   "outputs": [
    {
     "name": "stderr",
     "output_type": "stream",
     "text": [
      "C:\\Users\\aryan\\AppData\\Local\\Temp\\ipykernel_22356\\2718059918.py:13: DeprecationWarning: `set_matplotlib_formats` is deprecated since IPython 7.23, directly use `matplotlib_inline.backend_inline.set_matplotlib_formats()`\n",
      "  set_matplotlib_formats('svg', 'pdf') # For export\n"
     ]
    }
   ],
   "source": [
    "## Standard libraries\n",
    "import os\n",
    "import json\n",
    "import math\n",
    "import time\n",
    "import numpy as np\n",
    "import scipy.linalg\n",
    "\n",
    "## Imports for plotting\n",
    "import matplotlib.pyplot as plt\n",
    "%matplotlib inline\n",
    "from IPython.display import set_matplotlib_formats\n",
    "set_matplotlib_formats('svg', 'pdf') # For export\n",
    "from matplotlib.colors import to_rgb\n",
    "import matplotlib\n",
    "matplotlib.rcParams['lines.linewidth'] = 2.0\n",
    "import seaborn as sns\n",
    "sns.set()\n",
    "\n",
    "## Progress bar\n",
    "from tqdm.notebook import tqdm\n",
    "\n",
    "## PyTorch\n",
    "import torch\n",
    "import torch.nn as nn\n",
    "import torch.nn.functional as F\n",
    "import torch.utils.data as data\n",
    "import torch.optim as optim\n",
    "# Torchvision\n",
    "import torchvision\n",
    "from torchvision.datasets import CIFAR10\n",
    "from torchvision import transforms\n",
    "# PyTorch Lightning\n",
    "try:\n",
    "    import pytorch_lightning as pl\n",
    "except ModuleNotFoundError: # Google Colab does not have PyTorch Lightning installed by default. Hence, we do it here if necessary\n",
    "    !pip install --quiet pytorch-lightning>=1.4\n",
    "    import pytorch_lightning as pl\n",
    "from pytorch_lightning.callbacks import LearningRateMonitor, ModelCheckpoint"
   ]
  },
  {
   "cell_type": "markdown",
   "metadata": {},
   "source": [
    "Additional required setup steps \n",
    "\n",
    "Note: The cell below contains code from Tutorial 10"
   ]
  },
  {
   "cell_type": "code",
   "execution_count": 4,
   "metadata": {},
   "outputs": [
    {
     "name": "stderr",
     "output_type": "stream",
     "text": [
      "Seed set to 42\n"
     ]
    },
    {
     "name": "stdout",
     "output_type": "stream",
     "text": [
      "Using device cuda:0\n"
     ]
    }
   ],
   "source": [
    "# Path to the folder where the datasets are/should be downloaded (e.g. MNIST)\n",
    "DATASET_PATH = \"./data\"\n",
    "\n",
    "# Setting the seed\n",
    "pl.seed_everything(42)\n",
    "\n",
    "# Ensure that all operations are deterministic on GPU (if used) for reproducibility\n",
    "torch.backends.cudnn.deterministic = True\n",
    "torch.backends.cudnn.benchmark = False\n",
    "\n",
    "# Fetching the device that will be used throughout this notebook\n",
    "device = torch.device(\"cpu\") if not torch.cuda.is_available() else torch.device(\"cuda:0\")\n",
    "print(\"Using device\", device)"
   ]
  },
  {
   "cell_type": "markdown",
   "metadata": {},
   "source": [
    "Retrieve the ImageNet Dataset and process the zip files to ensure they are ready to be used"
   ]
  },
  {
   "cell_type": "code",
   "execution_count": 5,
   "metadata": {},
   "outputs": [
    {
     "name": "stdout",
     "output_type": "stream",
     "text": [
      "Downloading https://raw.githubusercontent.com/phlippe/saved_models/main/tutorial10/TinyImageNet.zip...\n",
      "Unzipping file...\n"
     ]
    }
   ],
   "source": [
    "import urllib.request\n",
    "from urllib.error import HTTPError\n",
    "import zipfile\n",
    "# Github URL where the dataset is stored for this tutorial\n",
    "base_url = \"https://raw.githubusercontent.com/phlippe/saved_models/main/tutorial10/\"\n",
    "# Files to download\n",
    "dataset = [(DATASET_PATH, \"TinyImageNet.zip\")]\n",
    "# Create checkpoint path if it doesn't exist yet\n",
    "os.makedirs(DATASET_PATH, exist_ok=True)\n",
    "\n",
    "# For each file, check whether it already exists. If not, try downloading it.\n",
    "for dir_name, file_name in dataset:\n",
    "    file_path = os.path.join(dir_name, file_name)\n",
    "    if not os.path.isfile(file_path):\n",
    "        file_url = base_url + file_name\n",
    "        print(f\"Downloading {file_url}...\")\n",
    "        try:\n",
    "            urllib.request.urlretrieve(file_url, file_path)\n",
    "        except HTTPError as e:\n",
    "            print(\"Something went wrong. Please try to download the file from the GDrive folder, or contact the author with the full output including the following error:\\n\", e)\n",
    "        if file_name.endswith(\".zip\"):\n",
    "            print(\"Unzipping file...\")\n",
    "            with zipfile.ZipFile(file_path, 'r') as zip_ref:\n",
    "                zip_ref.extractall(file_path.rsplit(\"/\",1)[0])"
   ]
  },
  {
   "cell_type": "markdown",
   "metadata": {},
   "source": [
    "Load the Pretrained ResNet34 model from Pytorch\n",
    "\n",
    "Note: The code in the cell below is from Tutorial 10"
   ]
  },
  {
   "cell_type": "code",
   "execution_count": 6,
   "metadata": {},
   "outputs": [
    {
     "name": "stderr",
     "output_type": "stream",
     "text": [
      "Downloading: \"https://download.pytorch.org/models/resnet34-b627a593.pth\" to ./model\\hub\\checkpoints\\resnet34-b627a593.pth\n",
      "100%|██████████| 83.3M/83.3M [00:01<00:00, 47.6MB/s]\n"
     ]
    }
   ],
   "source": [
    "# Load CNN architecture pretrained on ImageNet\n",
    "os.environ[\"TORCH_HOME\"] = './model'\n",
    "pretrained_model = torchvision.models.resnet34(weights='IMAGENET1K_V1')\n",
    "retrained_model = pretrained_model.to(device)\n",
    "\n",
    "# No gradients needed for the network\n",
    "pretrained_model.eval()\n",
    "for p in pretrained_model.parameters():\n",
    "    p.requires_grad = False"
   ]
  },
  {
   "cell_type": "markdown",
   "metadata": {},
   "source": [
    "Function definition to map patch parameters into image value ranges\n",
    "\n",
    "Note: The code below is from Tutorial 10"
   ]
  },
  {
   "cell_type": "code",
   "execution_count": 7,
   "metadata": {},
   "outputs": [],
   "source": [
    "NORM_MEAN = np.array([0.485, 0.456, 0.406])\n",
    "NORM_STD = np.array([0.229, 0.224, 0.225])\n",
    "TENSOR_MEANS, TENSOR_STD = torch.FloatTensor(NORM_MEAN)[:,None,None], torch.FloatTensor(NORM_STD)[:,None,None]\n",
    "def patch_forward(patch):\n",
    "    # Map patch values from [-infty,infty] to ImageNet min and max\n",
    "    patch = (torch.tanh(patch) + 1 - 2 * TENSOR_MEANS) / (2 * TENSOR_STD)\n",
    "    return patch"
   ]
  },
  {
   "cell_type": "markdown",
   "metadata": {},
   "source": [
    "Define random patch placement function to train the new patches on\n",
    "\n",
    "Note: The code below is from Tutorial 10"
   ]
  },
  {
   "cell_type": "code",
   "execution_count": 8,
   "metadata": {},
   "outputs": [],
   "source": [
    "def place_patch(img, patch):\n",
    "    for i in range(img.shape[0]):\n",
    "        h_offset = np.random.randint(0,img.shape[2]-patch.shape[1]-1)\n",
    "        w_offset = np.random.randint(0,img.shape[3]-patch.shape[2]-1)\n",
    "        img[i,:,h_offset:h_offset+patch.shape[1],w_offset:w_offset+patch.shape[2]] = patch_forward(patch)\n",
    "    return img"
   ]
  },
  {
   "cell_type": "markdown",
   "metadata": {},
   "source": [
    "Evaluation function to analyze performance of patch\n",
    "\n",
    "Note: The code below is from Tutorial 10"
   ]
  },
  {
   "cell_type": "code",
   "execution_count": 9,
   "metadata": {},
   "outputs": [],
   "source": [
    "def eval_patch(model, patch, val_loader, target_class):\n",
    "    model.eval()\n",
    "    tp, tp_5, counter = 0., 0., 0.\n",
    "    with torch.no_grad():\n",
    "        for img, img_labels in tqdm(val_loader, desc=\"Validating...\", leave=False):\n",
    "            # For stability, place the patch at 4 random locations per image, and average the performance\n",
    "            for _ in range(4):\n",
    "                patch_img = place_patch(img, patch)\n",
    "                patch_img = patch_img.to(device)\n",
    "                img_labels = img_labels.to(device)\n",
    "                pred = model(patch_img)\n",
    "                # In the accuracy calculation, we need to exclude the images that are of our target class\n",
    "                # as we would not \"fool\" the model into predicting those\n",
    "                tp += torch.logical_and(pred.argmax(dim=-1) == target_class, img_labels != target_class).sum()\n",
    "                tp_5 += torch.logical_and((pred.topk(5, dim=-1)[1] == target_class).any(dim=-1), img_labels != target_class).sum()\n",
    "                counter += (img_labels != target_class).sum()\n",
    "    acc = tp/counter\n",
    "    top5 = tp_5/counter\n",
    "    return acc, top5"
   ]
  },
  {
   "cell_type": "markdown",
   "metadata": {},
   "source": [
    "Training loop for patch training\n",
    "\n",
    "Note: The code below is from Tutorial 10"
   ]
  },
  {
   "cell_type": "code",
   "execution_count": 10,
   "metadata": {},
   "outputs": [],
   "source": [
    "def patch_attack(model, target_class, patch_size=64, num_epochs=5):\n",
    "    # Leave a small set of images out to check generalization\n",
    "    # In most of our experiments, the performance on the hold-out data points\n",
    "    # was as good as on the training set. Overfitting was little possible due\n",
    "    # to the small size of the patches.\n",
    "    train_set, val_set = torch.utils.data.random_split(dataset, [4500, 500])\n",
    "    train_loader = data.DataLoader(train_set, batch_size=32, shuffle=True, drop_last=True, num_workers=8)\n",
    "    val_loader = data.DataLoader(val_set, batch_size=32, shuffle=False, drop_last=False, num_workers=4)\n",
    "\n",
    "    # Create parameter and optimizer\n",
    "    if not isinstance(patch_size, tuple):\n",
    "        patch_size = (patch_size, patch_size)\n",
    "    patch = nn.Parameter(torch.zeros(3, patch_size[0], patch_size[1]), requires_grad=True)\n",
    "    optimizer = torch.optim.SGD([patch], lr=1e-1, momentum=0.8)\n",
    "    loss_module = nn.CrossEntropyLoss()\n",
    "\n",
    "    # Training loop\n",
    "    for epoch in range(num_epochs):\n",
    "        t = tqdm(train_loader, leave=False)\n",
    "        for img, _ in t:\n",
    "            img = place_patch(img, patch)\n",
    "            img = img.to(device)\n",
    "            pred = model(img)\n",
    "            labels = torch.zeros(img.shape[0], device=pred.device, dtype=torch.long).fill_(target_class)\n",
    "            loss = loss_module(pred, labels)\n",
    "            optimizer.zero_grad()\n",
    "            loss.mean().backward()\n",
    "            optimizer.step()\n",
    "            t.set_description(f\"Epoch {epoch}, Loss: {loss.item():4.2f}\")\n",
    "\n",
    "    # Final validation\n",
    "    acc, top5 = eval_patch(model, patch, val_loader, target_class)\n",
    "\n",
    "    return patch.data, {\"acc\": acc.item(), \"top5\": top5.item()}"
   ]
  },
  {
   "cell_type": "markdown",
   "metadata": {},
   "source": [
    "Save results for new patches that are created\n",
    "\n",
    "Note: The code below is from Tutorial 10"
   ]
  },
  {
   "cell_type": "code",
   "execution_count": 11,
   "metadata": {},
   "outputs": [],
   "source": [
    "json_results = {}\n",
    "def save_results(patch_dict):\n",
    "    result_dict = {cname: {psize: [t.item() if isinstance(t, torch.Tensor) else t\n",
    "                                   for t in patch_dict[cname][psize][\"results\"]]\n",
    "                           for psize in patch_dict[cname]}\n",
    "                   for cname in patch_dict}\n",
    "    with open(os.path.join('./model', \"patch_results.json\"), \"w\") as f:\n",
    "        json.dump(result_dict, f, indent=4)"
   ]
  },
  {
   "cell_type": "markdown",
   "metadata": {},
   "source": [
    "Load the data from the dataset\n",
    "\n",
    "Note: The code below is from Tutorial 10"
   ]
  },
  {
   "cell_type": "code",
   "execution_count": 13,
   "metadata": {},
   "outputs": [],
   "source": [
    "# No resizing and center crop necessary as images are already preprocessed.\n",
    "plain_transforms = transforms.Compose([\n",
    "    transforms.ToTensor(),\n",
    "    transforms.Normalize(mean=NORM_MEAN,\n",
    "                         std=NORM_STD)\n",
    "])\n",
    "\n",
    "# Load dataset and create data loader\n",
    "imagenet_path = os.path.join(DATASET_PATH, \"TinyImageNet/\")\n",
    "assert os.path.isdir(imagenet_path), f\"Could not find the ImageNet dataset at expected path \\\"{imagenet_path}\\\". \" + \\\n",
    "                                     f\"Please make sure to have downloaded the ImageNet dataset here, or change the {DATASET_PATH=} variable.\"\n",
    "dataset = torchvision.datasets.ImageFolder(root=imagenet_path, transform=plain_transforms)\n",
    "data_loader = data.DataLoader(dataset, batch_size=32, shuffle=False, drop_last=False, num_workers=8)\n",
    "\n",
    "# Load label names to interpret the label numbers 0 to 999\n",
    "with open(os.path.join(imagenet_path, \"label_list.json\"), \"r\") as f:\n",
    "    label_names = json.load(f)\n",
    "\n",
    "def get_label_index(lab_str):\n",
    "    assert lab_str in label_names, f\"Label \\\"{lab_str}\\\" not found. Check the spelling of the class.\"\n",
    "    return label_names.index(lab_str)"
   ]
  },
  {
   "cell_type": "markdown",
   "metadata": {},
   "source": [
    "Function definition for training the model\n",
    "\n",
    "Note: The code below is from Tutorial 10"
   ]
  },
  {
   "cell_type": "code",
   "execution_count": 14,
   "metadata": {},
   "outputs": [],
   "source": [
    "def get_patches(class_names, patch_sizes):\n",
    "    result_dict = dict()\n",
    "\n",
    "    # Loop over all classes and patch sizes\n",
    "    for name in class_names:\n",
    "        result_dict[name] = dict()\n",
    "        for patch_size in patch_sizes:\n",
    "            c = label_names.index(name)\n",
    "            file_name = os.path.join('./model', f\"{name}_{patch_size}_patch.pt\")\n",
    "            # Load patch if pretrained file exists, otherwise start training\n",
    "            if not os.path.isfile(file_name):\n",
    "                patch, val_results = patch_attack(pretrained_model, target_class=c, patch_size=patch_size, num_epochs=5)\n",
    "                print(f\"Validation results for {name} and {patch_size}:\", val_results)\n",
    "                torch.save(patch, file_name)\n",
    "            else:\n",
    "                patch = torch.load(file_name)\n",
    "            # Load evaluation results if exist, otherwise manually evaluate the patch\n",
    "            if name in json_results:\n",
    "                results = json_results[name][str(patch_size)]\n",
    "            else:\n",
    "                results = eval_patch(pretrained_model, patch, data_loader, target_class=c)\n",
    "\n",
    "            # Store results and the patches in a dict for better access\n",
    "            result_dict[name][patch_size] = {\n",
    "                \"results\": results,\n",
    "                \"patch\": patch\n",
    "            }\n",
    "\n",
    "    return result_dict"
   ]
  },
  {
   "cell_type": "markdown",
   "metadata": {},
   "source": [
    "Train the model\n",
    "\n",
    "Note: A portion of this code is from Tutorial 10"
   ]
  },
  {
   "cell_type": "code",
   "execution_count": 15,
   "metadata": {},
   "outputs": [
    {
     "data": {
      "application/vnd.jupyter.widget-view+json": {
       "model_id": "6e94020928314dcc96c6f3b698bd7b4f",
       "version_major": 2,
       "version_minor": 0
      },
      "text/plain": [
       "  0%|          | 0/140 [00:00<?, ?it/s]"
      ]
     },
     "metadata": {},
     "output_type": "display_data"
    },
    {
     "data": {
      "application/vnd.jupyter.widget-view+json": {
       "model_id": "c3db04e4fb5941c48eb66691c595d5f3",
       "version_major": 2,
       "version_minor": 0
      },
      "text/plain": [
       "  0%|          | 0/140 [00:00<?, ?it/s]"
      ]
     },
     "metadata": {},
     "output_type": "display_data"
    },
    {
     "data": {
      "application/vnd.jupyter.widget-view+json": {
       "model_id": "58b11dc6db69461dbd11d1bba41d2774",
       "version_major": 2,
       "version_minor": 0
      },
      "text/plain": [
       "  0%|          | 0/140 [00:00<?, ?it/s]"
      ]
     },
     "metadata": {},
     "output_type": "display_data"
    },
    {
     "data": {
      "application/vnd.jupyter.widget-view+json": {
       "model_id": "9708027c2bfa4be78cb847b82f476abf",
       "version_major": 2,
       "version_minor": 0
      },
      "text/plain": [
       "  0%|          | 0/140 [00:00<?, ?it/s]"
      ]
     },
     "metadata": {},
     "output_type": "display_data"
    },
    {
     "data": {
      "application/vnd.jupyter.widget-view+json": {
       "model_id": "a8d71c93f41a4bc7bb130ccf862b718d",
       "version_major": 2,
       "version_minor": 0
      },
      "text/plain": [
       "  0%|          | 0/140 [00:00<?, ?it/s]"
      ]
     },
     "metadata": {},
     "output_type": "display_data"
    },
    {
     "data": {
      "application/vnd.jupyter.widget-view+json": {
       "model_id": "d37f30bae0aa4221ae36eaee02f54674",
       "version_major": 2,
       "version_minor": 0
      },
      "text/plain": [
       "Validating...:   0%|          | 0/16 [00:00<?, ?it/s]"
      ]
     },
     "metadata": {},
     "output_type": "display_data"
    },
    {
     "name": "stdout",
     "output_type": "stream",
     "text": [
      "Validation results for dam and 128: {'acc': 1.0, 'top5': 1.0}\n"
     ]
    },
    {
     "data": {
      "application/vnd.jupyter.widget-view+json": {
       "model_id": "ff35b972c13d437b8e6500243b2e8c89",
       "version_major": 2,
       "version_minor": 0
      },
      "text/plain": [
       "Validating...:   0%|          | 0/157 [00:00<?, ?it/s]"
      ]
     },
     "metadata": {},
     "output_type": "display_data"
    },
    {
     "data": {
      "application/vnd.jupyter.widget-view+json": {
       "model_id": "33a210aa5f0a4d46b1177600dedb7c10",
       "version_major": 2,
       "version_minor": 0
      },
      "text/plain": [
       "  0%|          | 0/140 [00:00<?, ?it/s]"
      ]
     },
     "metadata": {},
     "output_type": "display_data"
    },
    {
     "data": {
      "application/vnd.jupyter.widget-view+json": {
       "model_id": "aad21ccc8fe74e0cbe6f776cb645539d",
       "version_major": 2,
       "version_minor": 0
      },
      "text/plain": [
       "  0%|          | 0/140 [00:00<?, ?it/s]"
      ]
     },
     "metadata": {},
     "output_type": "display_data"
    },
    {
     "data": {
      "application/vnd.jupyter.widget-view+json": {
       "model_id": "8b5f5f5f61e74b7a893f0d5b43f27618",
       "version_major": 2,
       "version_minor": 0
      },
      "text/plain": [
       "  0%|          | 0/140 [00:00<?, ?it/s]"
      ]
     },
     "metadata": {},
     "output_type": "display_data"
    },
    {
     "data": {
      "application/vnd.jupyter.widget-view+json": {
       "model_id": "146793aaaf5046339259f1bab4c4aef6",
       "version_major": 2,
       "version_minor": 0
      },
      "text/plain": [
       "  0%|          | 0/140 [00:00<?, ?it/s]"
      ]
     },
     "metadata": {},
     "output_type": "display_data"
    },
    {
     "data": {
      "application/vnd.jupyter.widget-view+json": {
       "model_id": "e895d5811d98455fac78e5839287fa5d",
       "version_major": 2,
       "version_minor": 0
      },
      "text/plain": [
       "  0%|          | 0/140 [00:00<?, ?it/s]"
      ]
     },
     "metadata": {},
     "output_type": "display_data"
    },
    {
     "data": {
      "application/vnd.jupyter.widget-view+json": {
       "model_id": "1799cfd068ca4fd8b2c7873424496b35",
       "version_major": 2,
       "version_minor": 0
      },
      "text/plain": [
       "Validating...:   0%|          | 0/16 [00:00<?, ?it/s]"
      ]
     },
     "metadata": {},
     "output_type": "display_data"
    },
    {
     "name": "stdout",
     "output_type": "stream",
     "text": [
      "Validation results for fly and 128: {'acc': 1.0, 'top5': 1.0}\n"
     ]
    },
    {
     "data": {
      "application/vnd.jupyter.widget-view+json": {
       "model_id": "03ca69bb7f984f348da14dd1f8deb724",
       "version_major": 2,
       "version_minor": 0
      },
      "text/plain": [
       "Validating...:   0%|          | 0/157 [00:00<?, ?it/s]"
      ]
     },
     "metadata": {},
     "output_type": "display_data"
    }
   ],
   "source": [
    "class_names = ['dam', 'fly']\n",
    "patch_sizes = [128]\n",
    "\n",
    "patch_dict = get_patches(class_names, patch_sizes)\n",
    "save_results(patch_dict)"
   ]
  },
  {
   "cell_type": "markdown",
   "metadata": {},
   "source": [
    "Visualize the patches\n",
    "\n",
    "Note: Some of the code below is from Tutorial 10"
   ]
  },
  {
   "cell_type": "code",
   "execution_count": 17,
   "metadata": {},
   "outputs": [],
   "source": [
    "from PIL import Image"
   ]
  },
  {
   "cell_type": "code",
   "execution_count": 18,
   "metadata": {},
   "outputs": [
    {
     "data": {
      "application/pdf": "[encoded data removed]",
      "image/svg+xml": [
       "<?xml version=\"1.0\" encoding=\"utf-8\" standalone=\"no\"?>\n",
       "<!DOCTYPE svg PUBLIC \"-//W3C//DTD SVG 1.1//EN\"\n",
       "  \"http://www.w3.org/Graphics/SVG/1.1/DTD/svg11.dtd\">\n",
       "<svg xmlns:xlink=\"http://www.w3.org/1999/xlink\" width=\"259.92pt\" height=\"135.883451pt\" viewBox=\"0 0 259.92 135.883451\" xmlns=\"http://www.w3.org/2000/svg\" version=\"1.1\">\n",
       " <metadata>\n",
       "  <rdf:RDF xmlns:dc=\"http://purl.org/dc/elements/1.1/\" xmlns:cc=\"http://creativecommons.org/ns#\" xmlns:rdf=\"http://www.w3.org/1999/02/22-rdf-syntax-ns#\">\n",
       "   <cc:Work>\n",
       "    <dc:type rdf:resource=\"http://purl.org/dc/dcmitype/StillImage\"/>\n",
       "    <dc:date>2024-09-11T23:42:06.734419</dc:date>\n",
       "    <dc:format>image/svg+xml</dc:format>\n",
       "    <dc:creator>\n",
       "     <cc:Agent>\n",
       "      <dc:title>Matplotlib v3.9.2, https://matplotlib.org/</dc:title>\n",
       "     </cc:Agent>\n",
       "    </dc:creator>\n",
       "   </cc:Work>\n",
       "  </rdf:RDF>\n",
       " </metadata>\n",
       " <defs>\n",
       "  <style type=\"text/css\">*{stroke-linejoin: round; stroke-linecap: butt}</style>\n",
       " </defs>\n",
       " <g id=\"figure_1\">\n",
       "  <g id=\"patch_1\">\n",
       "   <path d=\"M -0 135.883451 \n",
       "L 259.92 135.883451 \n",
       "L 259.92 0 \n",
       "L -0 0 \n",
       "z\n",
       "\" style=\"fill: #ffffff\"/>\n",
       "  </g>\n",
       "  <g id=\"axes_1\">\n",
       "   <g clip-path=\"url(#p97ba5dae4c)\">\n",
       "    <image xlink:href=\"data:image/png;base64,\n",
       "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\" id=\"imagefc9f016883\" transform=\"scale(1 -1) translate(0 -107.28)\" x=\"7.2\" y=\"-21.403451\" width=\"107.28\" height=\"107.28\"/>\n",
       "   </g>\n",
       "   <g id=\"text_1\">\n",
       "    <!-- dam, size 128 -->\n",
       "    <g style=\"fill: #262626\" transform=\"translate(23.222976 15.935625) scale(0.12 -0.12)\">\n",
       "     <defs>\n",
       "      <path id=\"ArialMT-64\" d=\"M 2575 0 \n",
       "L 2575 419 \n",
       "Q 2259 -75 1647 -75 \n",
       "Q 1250 -75 917 144 \n",
       "Q 584 363 401 755 \n",
       "Q 219 1147 219 1656 \n",
       "Q 219 2153 384 2558 \n",
       "Q 550 2963 881 3178 \n",
       "Q 1213 3394 1622 3394 \n",
       "Q 1922 3394 2156 3267 \n",
       "Q 2391 3141 2538 2938 \n",
       "L 2538 4581 \n",
       "L 3097 4581 \n",
       "L 3097 0 \n",
       "L 2575 0 \n",
       "z\n",
       "M 797 1656 \n",
       "Q 797 1019 1065 703 \n",
       "Q 1334 388 1700 388 \n",
       "Q 2069 388 2326 689 \n",
       "Q 2584 991 2584 1609 \n",
       "Q 2584 2291 2321 2609 \n",
       "Q 2059 2928 1675 2928 \n",
       "Q 1300 2928 1048 2622 \n",
       "Q 797 2316 797 1656 \n",
       "z\n",
       "\" transform=\"scale(0.015625)\"/>\n",
       "      <path id=\"ArialMT-61\" d=\"M 2588 409 \n",
       "Q 2275 144 1986 34 \n",
       "Q 1697 -75 1366 -75 \n",
       "Q 819 -75 525 192 \n",
       "Q 231 459 231 875 \n",
       "Q 231 1119 342 1320 \n",
       "Q 453 1522 633 1644 \n",
       "Q 813 1766 1038 1828 \n",
       "Q 1203 1872 1538 1913 \n",
       "Q 2219 1994 2541 2106 \n",
       "Q 2544 2222 2544 2253 \n",
       "Q 2544 2597 2384 2738 \n",
       "Q 2169 2928 1744 2928 \n",
       "Q 1347 2928 1158 2789 \n",
       "Q 969 2650 878 2297 \n",
       "L 328 2372 \n",
       "Q 403 2725 575 2942 \n",
       "Q 747 3159 1072 3276 \n",
       "Q 1397 3394 1825 3394 \n",
       "Q 2250 3394 2515 3294 \n",
       "Q 2781 3194 2906 3042 \n",
       "Q 3031 2891 3081 2659 \n",
       "Q 3109 2516 3109 2141 \n",
       "L 3109 1391 \n",
       "Q 3109 606 3145 398 \n",
       "Q 3181 191 3288 0 \n",
       "L 2700 0 \n",
       "Q 2613 175 2588 409 \n",
       "z\n",
       "M 2541 1666 \n",
       "Q 2234 1541 1622 1453 \n",
       "Q 1275 1403 1131 1340 \n",
       "Q 988 1278 909 1158 \n",
       "Q 831 1038 831 891 \n",
       "Q 831 666 1001 516 \n",
       "Q 1172 366 1500 366 \n",
       "Q 1825 366 2078 508 \n",
       "Q 2331 650 2450 897 \n",
       "Q 2541 1088 2541 1459 \n",
       "L 2541 1666 \n",
       "z\n",
       "\" transform=\"scale(0.015625)\"/>\n",
       "      <path id=\"ArialMT-6d\" d=\"M 422 0 \n",
       "L 422 3319 \n",
       "L 925 3319 \n",
       "L 925 2853 \n",
       "Q 1081 3097 1340 3245 \n",
       "Q 1600 3394 1931 3394 \n",
       "Q 2300 3394 2536 3241 \n",
       "Q 2772 3088 2869 2813 \n",
       "Q 3263 3394 3894 3394 \n",
       "Q 4388 3394 4653 3120 \n",
       "Q 4919 2847 4919 2278 \n",
       "L 4919 0 \n",
       "L 4359 0 \n",
       "L 4359 2091 \n",
       "Q 4359 2428 4304 2576 \n",
       "Q 4250 2725 4106 2815 \n",
       "Q 3963 2906 3769 2906 \n",
       "Q 3419 2906 3187 2673 \n",
       "Q 2956 2441 2956 1928 \n",
       "L 2956 0 \n",
       "L 2394 0 \n",
       "L 2394 2156 \n",
       "Q 2394 2531 2256 2718 \n",
       "Q 2119 2906 1806 2906 \n",
       "Q 1569 2906 1367 2781 \n",
       "Q 1166 2656 1075 2415 \n",
       "Q 984 2175 984 1722 \n",
       "L 984 0 \n",
       "L 422 0 \n",
       "z\n",
       "\" transform=\"scale(0.015625)\"/>\n",
       "      <path id=\"ArialMT-2c\" d=\"M 569 0 \n",
       "L 569 641 \n",
       "L 1209 641 \n",
       "L 1209 0 \n",
       "Q 1209 -353 1084 -570 \n",
       "Q 959 -788 688 -906 \n",
       "L 531 -666 \n",
       "Q 709 -588 793 -436 \n",
       "Q 878 -284 888 0 \n",
       "L 569 0 \n",
       "z\n",
       "\" transform=\"scale(0.015625)\"/>\n",
       "      <path id=\"ArialMT-20\" transform=\"scale(0.015625)\"/>\n",
       "      <path id=\"ArialMT-73\" d=\"M 197 991 \n",
       "L 753 1078 \n",
       "Q 800 744 1014 566 \n",
       "Q 1228 388 1613 388 \n",
       "Q 2000 388 2187 545 \n",
       "Q 2375 703 2375 916 \n",
       "Q 2375 1106 2209 1216 \n",
       "Q 2094 1291 1634 1406 \n",
       "Q 1016 1563 777 1677 \n",
       "Q 538 1791 414 1992 \n",
       "Q 291 2194 291 2438 \n",
       "Q 291 2659 392 2848 \n",
       "Q 494 3038 669 3163 \n",
       "Q 800 3259 1026 3326 \n",
       "Q 1253 3394 1513 3394 \n",
       "Q 1903 3394 2198 3281 \n",
       "Q 2494 3169 2634 2976 \n",
       "Q 2775 2784 2828 2463 \n",
       "L 2278 2388 \n",
       "Q 2241 2644 2061 2787 \n",
       "Q 1881 2931 1553 2931 \n",
       "Q 1166 2931 1000 2803 \n",
       "Q 834 2675 834 2503 \n",
       "Q 834 2394 903 2306 \n",
       "Q 972 2216 1119 2156 \n",
       "Q 1203 2125 1616 2013 \n",
       "Q 2213 1853 2448 1751 \n",
       "Q 2684 1650 2818 1456 \n",
       "Q 2953 1263 2953 975 \n",
       "Q 2953 694 2789 445 \n",
       "Q 2625 197 2315 61 \n",
       "Q 2006 -75 1616 -75 \n",
       "Q 969 -75 630 194 \n",
       "Q 291 463 197 991 \n",
       "z\n",
       "\" transform=\"scale(0.015625)\"/>\n",
       "      <path id=\"ArialMT-69\" d=\"M 425 3934 \n",
       "L 425 4581 \n",
       "L 988 4581 \n",
       "L 988 3934 \n",
       "L 425 3934 \n",
       "z\n",
       "M 425 0 \n",
       "L 425 3319 \n",
       "L 988 3319 \n",
       "L 988 0 \n",
       "L 425 0 \n",
       "z\n",
       "\" transform=\"scale(0.015625)\"/>\n",
       "      <path id=\"ArialMT-7a\" d=\"M 125 0 \n",
       "L 125 456 \n",
       "L 2238 2881 \n",
       "Q 1878 2863 1603 2863 \n",
       "L 250 2863 \n",
       "L 250 3319 \n",
       "L 2963 3319 \n",
       "L 2963 2947 \n",
       "L 1166 841 \n",
       "L 819 456 \n",
       "Q 1197 484 1528 484 \n",
       "L 3063 484 \n",
       "L 3063 0 \n",
       "L 125 0 \n",
       "z\n",
       "\" transform=\"scale(0.015625)\"/>\n",
       "      <path id=\"ArialMT-65\" d=\"M 2694 1069 \n",
       "L 3275 997 \n",
       "Q 3138 488 2766 206 \n",
       "Q 2394 -75 1816 -75 \n",
       "Q 1088 -75 661 373 \n",
       "Q 234 822 234 1631 \n",
       "Q 234 2469 665 2931 \n",
       "Q 1097 3394 1784 3394 \n",
       "Q 2450 3394 2872 2941 \n",
       "Q 3294 2488 3294 1666 \n",
       "Q 3294 1616 3291 1516 \n",
       "L 816 1516 \n",
       "Q 847 969 1125 678 \n",
       "Q 1403 388 1819 388 \n",
       "Q 2128 388 2347 550 \n",
       "Q 2566 713 2694 1069 \n",
       "z\n",
       "M 847 1978 \n",
       "L 2700 1978 \n",
       "Q 2663 2397 2488 2606 \n",
       "Q 2219 2931 1791 2931 \n",
       "Q 1403 2931 1139 2672 \n",
       "Q 875 2413 847 1978 \n",
       "z\n",
       "\" transform=\"scale(0.015625)\"/>\n",
       "      <path id=\"ArialMT-31\" d=\"M 2384 0 \n",
       "L 1822 0 \n",
       "L 1822 3584 \n",
       "Q 1619 3391 1289 3197 \n",
       "Q 959 3003 697 2906 \n",
       "L 697 3450 \n",
       "Q 1169 3672 1522 3987 \n",
       "Q 1875 4303 2022 4600 \n",
       "L 2384 4600 \n",
       "L 2384 0 \n",
       "z\n",
       "\" transform=\"scale(0.015625)\"/>\n",
       "      <path id=\"ArialMT-32\" d=\"M 3222 541 \n",
       "L 3222 0 \n",
       "L 194 0 \n",
       "Q 188 203 259 391 \n",
       "Q 375 700 629 1000 \n",
       "Q 884 1300 1366 1694 \n",
       "Q 2113 2306 2375 2664 \n",
       "Q 2638 3022 2638 3341 \n",
       "Q 2638 3675 2398 3904 \n",
       "Q 2159 4134 1775 4134 \n",
       "Q 1369 4134 1125 3890 \n",
       "Q 881 3647 878 3216 \n",
       "L 300 3275 \n",
       "Q 359 3922 746 4261 \n",
       "Q 1134 4600 1788 4600 \n",
       "Q 2447 4600 2831 4234 \n",
       "Q 3216 3869 3216 3328 \n",
       "Q 3216 3053 3103 2787 \n",
       "Q 2991 2522 2730 2228 \n",
       "Q 2469 1934 1863 1422 \n",
       "Q 1356 997 1212 845 \n",
       "Q 1069 694 975 541 \n",
       "L 3222 541 \n",
       "z\n",
       "\" transform=\"scale(0.015625)\"/>\n",
       "      <path id=\"ArialMT-38\" d=\"M 1131 2484 \n",
       "Q 781 2613 612 2850 \n",
       "Q 444 3088 444 3419 \n",
       "Q 444 3919 803 4259 \n",
       "Q 1163 4600 1759 4600 \n",
       "Q 2359 4600 2725 4251 \n",
       "Q 3091 3903 3091 3403 \n",
       "Q 3091 3084 2923 2848 \n",
       "Q 2756 2613 2416 2484 \n",
       "Q 2838 2347 3058 2040 \n",
       "Q 3278 1734 3278 1309 \n",
       "Q 3278 722 2862 322 \n",
       "Q 2447 -78 1769 -78 \n",
       "Q 1091 -78 675 323 \n",
       "Q 259 725 259 1325 \n",
       "Q 259 1772 486 2073 \n",
       "Q 713 2375 1131 2484 \n",
       "z\n",
       "M 1019 3438 \n",
       "Q 1019 3113 1228 2906 \n",
       "Q 1438 2700 1772 2700 \n",
       "Q 2097 2700 2305 2904 \n",
       "Q 2513 3109 2513 3406 \n",
       "Q 2513 3716 2298 3927 \n",
       "Q 2084 4138 1766 4138 \n",
       "Q 1444 4138 1231 3931 \n",
       "Q 1019 3725 1019 3438 \n",
       "z\n",
       "M 838 1322 \n",
       "Q 838 1081 952 856 \n",
       "Q 1066 631 1291 507 \n",
       "Q 1516 384 1775 384 \n",
       "Q 2178 384 2440 643 \n",
       "Q 2703 903 2703 1303 \n",
       "Q 2703 1709 2433 1975 \n",
       "Q 2163 2241 1756 2241 \n",
       "Q 1359 2241 1098 1978 \n",
       "Q 838 1716 838 1322 \n",
       "z\n",
       "\" transform=\"scale(0.015625)\"/>\n",
       "     </defs>\n",
       "     <use xlink:href=\"#ArialMT-64\"/>\n",
       "     <use xlink:href=\"#ArialMT-61\" x=\"55.615234\"/>\n",
       "     <use xlink:href=\"#ArialMT-6d\" x=\"111.230469\"/>\n",
       "     <use xlink:href=\"#ArialMT-2c\" x=\"194.53125\"/>\n",
       "     <use xlink:href=\"#ArialMT-20\" x=\"222.314453\"/>\n",
       "     <use xlink:href=\"#ArialMT-73\" x=\"250.097656\"/>\n",
       "     <use xlink:href=\"#ArialMT-69\" x=\"300.097656\"/>\n",
       "     <use xlink:href=\"#ArialMT-7a\" x=\"322.314453\"/>\n",
       "     <use xlink:href=\"#ArialMT-65\" x=\"372.314453\"/>\n",
       "     <use xlink:href=\"#ArialMT-20\" x=\"427.929688\"/>\n",
       "     <use xlink:href=\"#ArialMT-31\" x=\"455.712891\"/>\n",
       "     <use xlink:href=\"#ArialMT-32\" x=\"511.328125\"/>\n",
       "     <use xlink:href=\"#ArialMT-38\" x=\"566.943359\"/>\n",
       "    </g>\n",
       "   </g>\n",
       "  </g>\n",
       "  <g id=\"axes_2\">\n",
       "   <g clip-path=\"url(#peea257da61)\">\n",
       "    <image xlink:href=\"data:image/png;base64,\n",
       "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\" id=\"image92e6060218\" transform=\"scale(1 -1) translate(0 -107.28)\" x=\"145.972174\" y=\"-21.403451\" width=\"107.28\" height=\"107.28\"/>\n",
       "   </g>\n",
       "   <g id=\"text_2\">\n",
       "    <!-- fly, size 128 -->\n",
       "    <g style=\"fill: #262626\" transform=\"translate(168.108587 15.935625) scale(0.12 -0.12)\">\n",
       "     <defs>\n",
       "      <path id=\"ArialMT-66\" d=\"M 556 0 \n",
       "L 556 2881 \n",
       "L 59 2881 \n",
       "L 59 3319 \n",
       "L 556 3319 \n",
       "L 556 3672 \n",
       "Q 556 4006 616 4169 \n",
       "Q 697 4388 901 4523 \n",
       "Q 1106 4659 1475 4659 \n",
       "Q 1713 4659 2000 4603 \n",
       "L 1916 4113 \n",
       "Q 1741 4144 1584 4144 \n",
       "Q 1328 4144 1222 4034 \n",
       "Q 1116 3925 1116 3625 \n",
       "L 1116 3319 \n",
       "L 1763 3319 \n",
       "L 1763 2881 \n",
       "L 1116 2881 \n",
       "L 1116 0 \n",
       "L 556 0 \n",
       "z\n",
       "\" transform=\"scale(0.015625)\"/>\n",
       "      <path id=\"ArialMT-6c\" d=\"M 409 0 \n",
       "L 409 4581 \n",
       "L 972 4581 \n",
       "L 972 0 \n",
       "L 409 0 \n",
       "z\n",
       "\" transform=\"scale(0.015625)\"/>\n",
       "      <path id=\"ArialMT-79\" d=\"M 397 -1278 \n",
       "L 334 -750 \n",
       "Q 519 -800 656 -800 \n",
       "Q 844 -800 956 -737 \n",
       "Q 1069 -675 1141 -563 \n",
       "Q 1194 -478 1313 -144 \n",
       "Q 1328 -97 1363 -6 \n",
       "L 103 3319 \n",
       "L 709 3319 \n",
       "L 1400 1397 \n",
       "Q 1534 1031 1641 628 \n",
       "Q 1738 1016 1872 1384 \n",
       "L 2581 3319 \n",
       "L 3144 3319 \n",
       "L 1881 -56 \n",
       "Q 1678 -603 1566 -809 \n",
       "Q 1416 -1088 1222 -1217 \n",
       "Q 1028 -1347 759 -1347 \n",
       "Q 597 -1347 397 -1278 \n",
       "z\n",
       "\" transform=\"scale(0.015625)\"/>\n",
       "     </defs>\n",
       "     <use xlink:href=\"#ArialMT-66\"/>\n",
       "     <use xlink:href=\"#ArialMT-6c\" x=\"27.783203\"/>\n",
       "     <use xlink:href=\"#ArialMT-79\" x=\"50\"/>\n",
       "     <use xlink:href=\"#ArialMT-2c\" x=\"92.625\"/>\n",
       "     <use xlink:href=\"#ArialMT-20\" x=\"120.408203\"/>\n",
       "     <use xlink:href=\"#ArialMT-73\" x=\"148.191406\"/>\n",
       "     <use xlink:href=\"#ArialMT-69\" x=\"198.191406\"/>\n",
       "     <use xlink:href=\"#ArialMT-7a\" x=\"220.408203\"/>\n",
       "     <use xlink:href=\"#ArialMT-65\" x=\"270.408203\"/>\n",
       "     <use xlink:href=\"#ArialMT-20\" x=\"326.023438\"/>\n",
       "     <use xlink:href=\"#ArialMT-31\" x=\"353.806641\"/>\n",
       "     <use xlink:href=\"#ArialMT-32\" x=\"409.421875\"/>\n",
       "     <use xlink:href=\"#ArialMT-38\" x=\"465.037109\"/>\n",
       "    </g>\n",
       "   </g>\n",
       "  </g>\n",
       " </g>\n",
       " <defs>\n",
       "  <clipPath id=\"p97ba5dae4c\">\n",
       "   <rect x=\"7.2\" y=\"21.935625\" width=\"106.747826\" height=\"106.747826\"/>\n",
       "  </clipPath>\n",
       "  <clipPath id=\"peea257da61\">\n",
       "   <rect x=\"145.972174\" y=\"21.935625\" width=\"106.747826\" height=\"106.747826\"/>\n",
       "  </clipPath>\n",
       " </defs>\n",
       "</svg>\n"
      ],
      "text/plain": [
       "<Figure size 440x220 with 2 Axes>"
      ]
     },
     "metadata": {},
     "output_type": "display_data"
    }
   ],
   "source": [
    "def show_patches():\n",
    "    fig, ax = plt.subplots(len(patch_sizes), len(class_names), figsize=(len(class_names)*2.2, len(patch_sizes)*2.2))\n",
    "    ax = np.atleast_2d(ax)\n",
    "    for c_idx, cname in enumerate(class_names):\n",
    "        for p_idx, psize in enumerate(patch_sizes):\n",
    "            patch = patch_dict[cname][psize][\"patch\"]\n",
    "            patch = (torch.tanh(patch) + 1) / 2 # Parameter to pixel values\n",
    "            patch = patch.cpu().permute(1, 2, 0).numpy()\n",
    "            patch = np.clip(patch, a_min=0.0, a_max=1.0)\n",
    "            ax[p_idx][c_idx].imshow(patch)\n",
    "            ax[p_idx][c_idx].set_title(f\"{cname}, size {psize}\")\n",
    "            ax[p_idx][c_idx].axis('off')\n",
    "            patch_image = (patch * 255).astype(np.uint8) \n",
    "            patch_image_pil = Image.fromarray(patch_image)\n",
    "            patch_image_pil.save(f\"{cname}_size_{psize}_patch.png\")\n",
    "\n",
    "    fig.subplots_adjust(hspace=0.3, wspace=0.3)\n",
    "    plt.show()\n",
    "show_patches()"
   ]
  },
  {
   "cell_type": "markdown",
   "metadata": {},
   "source": [
    "Merge the two generated images to create a new patch"
   ]
  },
  {
   "cell_type": "code",
   "execution_count": 19,
   "metadata": {},
   "outputs": [],
   "source": [
    "\n",
    "image1 = Image.open('dam_size_128_patch.png')\n",
    "image2 = Image.open('fly_size_128_patch.png')\n",
    "new_image = Image.new('RGB', image1.size)\n",
    "\n",
    "pixels1 = image1.load()\n",
    "pixels2 = image2.load()\n",
    "new_pixels = new_image.load()\n",
    "\n",
    "width, height = image1.size\n",
    "\n",
    "for y in range(height):\n",
    "    for x in range(width):\n",
    "        pixel1 = pixels1[x, y]\n",
    "        pixel2 = pixels2[x, y]\n",
    "        new_pixel = (\n",
    "            (pixel1[0] + pixel2[0]) // 2,\n",
    "            (pixel1[1] + pixel2[1]) // 2, \n",
    "            (pixel1[2] + pixel2[2]) // 2\n",
    "        )\n",
    "        new_pixels[x, y] = new_pixel\n",
    "\n",
    "new_image.save('merged_image.png')"
   ]
  }
 ],
 "metadata": {
  "kernelspec": {
   "display_name": "Python 3",
   "language": "python",
   "name": "python3"
  },
  "language_info": {
   "codemirror_mode": {
    "name": "ipython",
    "version": 3
   },
   "file_extension": ".py",
   "mimetype": "text/x-python",
   "name": "python",
   "nbconvert_exporter": "python",
   "pygments_lexer": "ipython3",
   "version": "3.12.3"
  }
 },
 "nbformat": 4,
 "nbformat_minor": 2
}
